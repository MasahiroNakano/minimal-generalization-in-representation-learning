{
 "cells": [
  {
   "cell_type": "code",
   "execution_count": null,
   "metadata": {},
   "outputs": [],
   "source": [
    "import sys\n",
    "import pandas as pd\n",
    "from funcs_model_fit_evaluate import *\n",
    "from utils_models import *\n",
    "from utils_sampling import *"
   ]
  },
  {
   "cell_type": "code",
   "execution_count": null,
   "metadata": {},
   "outputs": [],
   "source": [
    "datasetName = 'takahashi2016roesch2009burton2018Valid'\n",
    "modelName = 'sixState_full'  # alternatively: 'fourState_full', 'hybridValue_full', 'hybridLearning_full'\n",
    "ifMoreControl = False  # set to True if sampling doesn't converge with default setting"
   ]
  },
  {
   "cell_type": "code",
   "execution_count": null,
   "metadata": {},
   "outputs": [],
   "source": [
    "# import data\n",
    "data = pd.read_csv('data/' + datasetName + '.csv')\n",
    "dd = data2dict(data)\n",
    "\n",
    "# set sampling parameters (if using more control parameters)\n",
    "moreControl = dict(adapt_delta=0.99, stepsize=0.01, max_treedepth=20) if ifMoreControl else None\n",
    "\n",
    "# fit model and save\n",
    "fit = fitModel(modelName, datasetName, dd, samplingInfo, moreControl)\n",
    "\n",
    "# check fit\n",
    "checkModelFitDiagnostics(modelInfo[modelName], samplingInfo, datasetName, fit)"
   ]
  }
 ],
 "metadata": {
  "kernelspec": {
   "display_name": "Python 3",
   "language": "python",
   "name": "python3"
  },
  "language_info": {
   "codemirror_mode": {
    "name": "ipython",
    "version": 3
   },
   "file_extension": ".py",
   "mimetype": "text/x-python",
   "name": "python",
   "nbconvert_exporter": "python",
   "pygments_lexer": "ipython3",
   "version": "3.7.2"
  }
 },
 "nbformat": 4,
 "nbformat_minor": 2
}
